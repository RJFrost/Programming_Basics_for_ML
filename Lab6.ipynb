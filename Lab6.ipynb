{
  "cells": [
    {
      "cell_type": "code",
      "execution_count": 6,
      "metadata": {},
      "outputs": [
        {
          "name": "stdout",
          "output_type": "stream",
          "text": [
            "Invalid input. Please enter valid numeric values.\n",
            "Invalid input. Please enter valid numeric values.\n",
            "Invalid input. Please enter valid numeric values.\n",
            "Patient data (before): 65.0 in, 65.0 lbs\n",
            "Patient data (after): 65.0 in, 65.0 lbs\n"
          ]
        }
      ],
      "source": [
        "# Question 1\n",
        "\n",
        "class PatientData:\n",
        "    def __init__(self):\n",
        "        self.height_inches = 0\n",
        "        self.weight_pounds = 0\n",
        "\n",
        "    def set_data(self, height, weight):\n",
        "        try:\n",
        "            if height < 0 or weight < 0:\n",
        "                raise ValueError(\"Height and weight cannot be negative.\")\n",
        "            self.height_inches = height\n",
        "            self.weight_pounds = weight\n",
        "        except (ValueError, TypeError):\n",
        "            print(\"Invalid input. Please enter valid numeric values.\")\n",
        "\n",
        "    def display_data(self):\n",
        "        print(f\"Patient data (before): {self.height_inches} in, {self.weight_pounds} lbs\")\n",
        "        print(f\"Patient data (after): {self.height_inches} in, {self.weight_pounds} lbs\")\n",
        "\n",
        "patient = PatientData()\n",
        "\n",
        "while True:\n",
        "    try:\n",
        "        height_input = float(input(\"Enter height in inches: \"))\n",
        "        weight_input = float(input(\"Enter weight in pounds: \"))\n",
        "        patient.set_data(height_input, weight_input)\n",
        "        break\n",
        "    except (ValueError, TypeError):\n",
        "        print(\"Invalid input. Please enter valid numeric values.\")\n",
        "\n",
        "patient.display_data()\n"
      ]
    },
    {
      "cell_type": "code",
      "execution_count": 3,
      "id": "99757023-2ae1-4095-8aa5-6b2abc62895d",
      "metadata": {
        "id": "99757023-2ae1-4095-8aa5-6b2abc62895d"
      },
      "outputs": [
        {
          "name": "stdout",
          "output_type": "stream",
          "text": [
            "Invalid input. Please enter valid numeric values.\n",
            "ID: 0\n",
            "Qty: 0\n"
          ]
        }
      ],
      "source": [
        "#Question 2 \n",
        "\n",
        "class InventoryTag:\n",
        "    def __init__(self):\n",
        "        self.ID = 0\n",
        "        self.quantity = 0\n",
        "\n",
        "    def set_tag(self, tag_id, qty):\n",
        "        try:\n",
        "            if tag_id < 0 or qty < 0:\n",
        "                raise ValueError(\"ID and quantity cannot be negative.\")\n",
        "            self.ID = tag_id\n",
        "            self.quantity = qty\n",
        "        except (ValueError, TypeError):\n",
        "            print(\"Invalid input. Please enter valid numeric values.\")\n",
        "\n",
        "    def print_attributes(self):\n",
        "        print(f\"ID: {self.ID}\")\n",
        "        print(f\"Qty: {self.quantity}\")\n",
        "\n",
        "red_sweater = InventoryTag()\n",
        "\n",
        "while True:\n",
        "    try:\n",
        "        tag_id_input = int(input(\"Enter ID: \"))\n",
        "        qty_input = int(input(\"Enter quantity: \"))\n",
        "        red_sweater.set_tag(tag_id_input, qty_input)\n",
        "        break\n",
        "    except (ValueError, TypeError):\n",
        "        print(\"Invalid input. Please enter valid numeric values.\")\n",
        "\n",
        "red_sweater.print_attributes()\n"
      ]
    },
    {
      "cell_type": "code",
      "execution_count": 1,
      "id": "869bbdd5",
      "metadata": {},
      "outputs": [
        {
          "name": "stdout",
          "output_type": "stream",
          "text": [
            "Car's information:\n",
            "Model year: 2011\n",
            "Purchase price: 244.0\n",
            "Current Value: 78\n"
          ]
        }
      ],
      "source": [
        "#Question 3 \n",
        "\n",
        "class Car:\n",
        "    def __init__(self):\n",
        "        self.model_year = 0\n",
        "        self.purchase_price = 0\n",
        "        self.current_value = 0\n",
        "\n",
        "    def set_purchase_price(self, price):\n",
        "        self.purchase_price = price\n",
        "\n",
        "    def calc_current_value(self, current_year):\n",
        "        depreciation_rate = 0.15\n",
        "        car_age = current_year - self.model_year\n",
        "        self.current_value = round(self.purchase_price * (1 - depreciation_rate) ** car_age)\n",
        "\n",
        "    def print_info(self):\n",
        "        print(\"Car's information:\")\n",
        "        print(f\"Model year: {self.model_year}\")\n",
        "        print(f\"Purchase price: {self.purchase_price}\")\n",
        "        print(f\"Current Value: {self.current_value}\")\n",
        "\n",
        "car = Car()\n",
        "\n",
        "while True:\n",
        "    try:\n",
        "        model_year = int(input(\"Enter the car's model year: \"))\n",
        "        purchase_price = float(input(\"Enter the purchase price: \"))\n",
        "        current_year = int(input(\"Enter the current year: \"))\n",
        "        if model_year > current_year:\n",
        "            raise ValueError(\"Model year cannot be in the future!\")\n",
        "        car.model_year = model_year\n",
        "        car.set_purchase_price(purchase_price)\n",
        "        car.calc_current_value(current_year)\n",
        "        break\n",
        "    except ValueError as e:\n",
        "        print(f\"Invalid input: {e}. Please enter valid values.\")\n",
        "\n",
        "car.print_info()"
      ]
    },
    {
      "cell_type": "code",
      "execution_count": 3,
      "id": "1c566a07",
      "metadata": {},
      "outputs": [
        {
          "name": "stdout",
          "output_type": "stream",
          "text": [
            "Enter address details:\n",
            "Address is:\n",
            "-5917 108 Street NW\n",
            "Edmonton, Alberta T6H2Z3\n"
          ]
        }
      ],
      "source": [
        "#Question 4 \n",
        "\n",
        "class Address:\n",
        "    def __init__(self, house_number, street, city, province, postal_code, apartment_number=None):\n",
        "        self.house_number = house_number\n",
        "        self.street = street\n",
        "        self.city = city\n",
        "        self.province = province\n",
        "        self.postal_code = postal_code\n",
        "        self.apartment_number = apartment_number\n",
        "\n",
        "    def print_address(self):\n",
        "        print(\"Address is:\")\n",
        "        if self.apartment_number is not None:\n",
        "            print(f\"{self.apartment_number}-{self.house_number} {self.street}\")\n",
        "        else:\n",
        "            print(f\"{self.house_number} {self.street}\")\n",
        "        print(f\"{self.city}, {self.province} {self.postal_code.replace(' ', '')}\")\n",
        "\n",
        "def get_user_input():\n",
        "    house_number = input(\"Enter house number: \")\n",
        "    street = input(\"Enter street: \")\n",
        "    city = input(\"Enter city: \")\n",
        "    province = input(\"Enter province: \")\n",
        "    postal_code = input(\"Enter postal code: \")\n",
        "    apartment_number = input(\"Enter apartment number (if applicable, else press Enter): \")\n",
        "\n",
        "    return house_number, street, city, province, postal_code, apartment_number\n",
        "\n",
        "print(\"Enter address details:\")\n",
        "user_input = get_user_input()\n",
        "address = Address(*user_input)\n",
        "address.print_address()\n"
      ]
    },
    {
      "cell_type": "code",
      "execution_count": 4,
      "id": "00d45cc5",
      "metadata": {},
      "outputs": [
        {
          "name": "stdout",
          "output_type": "stream",
          "text": [
            "Triangle with larger area:\n",
            "Base: 4.00\n",
            "Height: 5.00\n",
            "Area: 10.00\n"
          ]
        }
      ],
      "source": [
        "#Question 5 \n",
        "\n",
        "class Triangle:\n",
        "    def __init__(self):\n",
        "        self.base = 0\n",
        "        self.height = 0\n",
        "\n",
        "    def set_base(self, user_base):\n",
        "        self.base = user_base\n",
        "\n",
        "    def set_height(self, user_height):\n",
        "        self.height = user_height\n",
        "\n",
        "    def get_area(self):\n",
        "        area = 0.5 * self.base * self.height\n",
        "        return area\n",
        "\n",
        "    def print_info(self):\n",
        "        print('Base: {:.2f}'.format(self.base))\n",
        "        print('Height: {:.2f}'.format(self.height))\n",
        "        print('Area: {:.2f}'.format(self.get_area())) \n",
        "\n",
        "\n",
        "if __name__ == \"__main__\":\n",
        "    triangle1 = Triangle()\n",
        "    triangle2 = Triangle()\n",
        "\n",
        "    user_base1 = float(input(\"Enter base for triangle 1: \"))\n",
        "    user_height1 = float(input(\"Enter height for triangle 1: \"))\n",
        "    triangle1.set_base(user_base1)\n",
        "    triangle1.set_height(user_height1)\n",
        "\n",
        "    user_base2 = float(input(\"Enter base for triangle 2: \"))\n",
        "    user_height2 = float(input(\"Enter height for triangle 2: \"))\n",
        "    triangle2.set_base(user_base2)\n",
        "    triangle2.set_height(user_height2)\n",
        "\n",
        "    area_triangle1 = triangle1.get_area()\n",
        "    area_triangle2 = triangle2.get_area()\n",
        "\n",
        "    print('Triangle with larger area:')\n",
        "    if area_triangle1 > area_triangle2:\n",
        "        triangle1.print_info()\n",
        "    elif area_triangle2 > area_triangle1:\n",
        "        triangle2.print_info()\n",
        "    else:\n",
        "        print('Both triangles have the same area.')\n"
      ]
    },
    {
      "cell_type": "code",
      "execution_count": null,
      "id": "2a94520f",
      "metadata": {},
      "outputs": [],
      "source": []
    },
    {
      "cell_type": "code",
      "execution_count": null,
      "id": "bffc78a1",
      "metadata": {},
      "outputs": [],
      "source": [
        "\n"
      ]
    },
    {
      "cell_type": "code",
      "execution_count": null,
      "id": "9ce32377",
      "metadata": {},
      "outputs": [],
      "source": []
    },
    {
      "cell_type": "code",
      "execution_count": null,
      "id": "fd0721dc",
      "metadata": {},
      "outputs": [],
      "source": []
    },
    {
      "cell_type": "code",
      "execution_count": null,
      "id": "8b79dc0d",
      "metadata": {},
      "outputs": [],
      "source": []
    },
    {
      "cell_type": "code",
      "execution_count": null,
      "id": "4b2e6402",
      "metadata": {},
      "outputs": [],
      "source": []
    },
    {
      "cell_type": "code",
      "execution_count": null,
      "id": "6534c0c9",
      "metadata": {},
      "outputs": [],
      "source": []
    },
    {
      "cell_type": "code",
      "execution_count": null,
      "id": "425bff23",
      "metadata": {},
      "outputs": [],
      "source": []
    },
    {
      "cell_type": "code",
      "execution_count": null,
      "id": "7cf29ed9",
      "metadata": {},
      "outputs": [],
      "source": []
    },
    {
      "cell_type": "code",
      "execution_count": null,
      "id": "bf4eb9f0",
      "metadata": {},
      "outputs": [],
      "source": []
    }
  ],
  "metadata": {
    "colab": {
      "provenance": []
    },
    "kernelspec": {
      "display_name": "Python 3 (ipykernel)",
      "language": "python",
      "name": "python3"
    },
    "language_info": {
      "codemirror_mode": {
        "name": "ipython",
        "version": 3
      },
      "file_extension": ".py",
      "mimetype": "text/x-python",
      "name": "python",
      "nbconvert_exporter": "python",
      "pygments_lexer": "ipython3",
      "version": "3.11.4"
    }
  },
  "nbformat": 4,
  "nbformat_minor": 5
}
