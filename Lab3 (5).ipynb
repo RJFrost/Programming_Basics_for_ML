{
  "cells": [
    {
      "cell_type": "code",
      "execution_count": null,
      "id": "3ccf2bf4",
      "metadata": {},
      "outputs": [],
      "source": []
    },
    {
      "cell_type": "code",
      "execution_count": 3,
      "id": "99757023-2ae1-4095-8aa5-6b2abc62895d",
      "metadata": {
        "id": "99757023-2ae1-4095-8aa5-6b2abc62895d"
      },
      "outputs": [
        {
          "name": "stdout",
          "output_type": "stream",
          "text": [
            "Your BMI is: 35.75\n",
            "Obese: What are you sandwich's made of? Let's really cut back now.\n"
          ]
        }
      ],
      "source": [
        "#Question 1\n",
        "def calculate_bmi(weight, height, unit):\n",
        "    try:\n",
        "        weight = float(weight)\n",
        "        height = float(height)\n",
        "        if weight <= 0 or height <= 0:\n",
        "            raise ValueError\n",
        "        if unit.lower() == 'metric':\n",
        "            bmi = weight / (height ** 2)\n",
        "        elif unit.lower() == 'imperial':\n",
        "            bmi = (weight / (height ** 2)) * 703\n",
        "        else:\n",
        "            raise ValueError\n",
        "        return bmi\n",
        "    except ValueError:\n",
        "        print(\"Invalid input. Please enter positive numeric values for weight and height, and choose 'metric' or 'imperial' as the unit.\")\n",
        "        return None\n",
        "\n",
        "def get_health_advice(bmi):\n",
        "    if bmi is None:\n",
        "        return None\n",
        "    if bmi < 18.5:\n",
        "        return \"Underweight: You should eat a sandwich. \"\n",
        "    elif 18.5 <= bmi < 24.9:\n",
        "        return \"Normal weight: You're good!\"\n",
        "    elif 25 <= bmi < 29.9:\n",
        "        return \"Overweight: Maybe lets stick to one sandwich at a time.\"\n",
        "    else:\n",
        "        return \"Obese: What are you sandwich's made of? Let's really cut back now.\"\n",
        "def main():\n",
        "    try:\n",
        "        unit = input(\"Enter 'metric' for kilograms/meters or 'imperial' for pounds/inches: \").strip()\n",
        "        weight = input(\"Enter your weight: \")\n",
        "        height = input(\"Enter your height: \")\n",
        "        bmi = calculate_bmi(weight, height, unit)\n",
        "        if bmi is not None:\n",
        "            print(f\"Your BMI is: {bmi:.2f}\")\n",
        "            advice = get_health_advice(bmi)\n",
        "            if advice is not None:\n",
        "                print(advice)\n",
        "    except Exception as e:\n",
        "        print(f\"An error occurred: {e}\")\n",
        "\n",
        "if __name__ == \"__main__\":\n",
        "    main()\n"
      ]
    },
    {
      "cell_type": "code",
      "execution_count": 9,
      "id": "869bbdd5",
      "metadata": {},
      "outputs": [
        {
          "ename": "SyntaxError",
          "evalue": "(unicode error) 'unicodeescape' codec can't decode bytes in position 2-3: truncated \\UXXXXXXXX escape (445600788.py, line 3)",
          "output_type": "error",
          "traceback": [
            "\u001b[1;36m  Cell \u001b[1;32mIn[9], line 3\u001b[1;36m\u001b[0m\n\u001b[1;33m    words = open(\"C:\\Users\\2rory\\OneDrive\\Documents\\Data Analytics\\Programming\\Programming_Basics_for_ML\\Lab5_input.txt\")\u001b[0m\n\u001b[1;37m                                                                                                                        ^\u001b[0m\n\u001b[1;31mSyntaxError\u001b[0m\u001b[1;31m:\u001b[0m (unicode error) 'unicodeescape' codec can't decode bytes in position 2-3: truncated \\UXXXXXXXX escape\n"
          ]
        }
      ],
      "source": [
        "#Question 2\n",
        "\n",
        "words = open(\"C:\\Users\\2rory\\OneDrive\\Documents\\Data Analytics\\Programming\\Programming_Basics_for_ML\\Lab5_input.txt\")\n",
        "\n",
        "\n",
        "def read_words_from_file(file_name):\n",
        "    try:\n",
        "        with open(file_name, 'r') as file:\n",
        "            words = file.readlines()\n",
        "        return words\n",
        "    except FileNotFoundError:\n",
        "        print(f\"Error: File '{file_name}' not found.\")\n",
        "        return []\n",
        "\n",
        "def search_words_within_range(words, lower_bound, upper_bound):\n",
        "    filtered_words = []\n",
        "    for word in words:\n",
        "        if lower_bound <= word.strip() <= upper_bound:\n",
        "            filtered_words.append(word.strip())\n",
        "    return filtered_words\n",
        "\n",
        "def main():\n",
        "    try:\n",
        "        file_name = input(\"Enter the input file name: \")\n",
        "        lower_bound = input(\"Enter the lower bound: \")\n",
        "        upper_bound = input(\"Enter the upper bound: \")\n",
        "\n",
        "        words = read_words_from_file(file_name)\n",
        "        filtered_words = search_words_within_range(words, lower_bound, upper_bound)\n",
        "\n",
        "        if filtered_words:\n",
        "            print(\"Words within the specified range:\")\n",
        "            for word in filtered_words:\n",
        "                print(word)\n",
        "        else:\n",
        "            print(\"No words found within the specified range.\")\n",
        "    except Exception as e:\n",
        "        print(f\"Error: {e}\")\n",
        "\n",
        "if __name__ == \"__main__\":\n",
        "    main()\n"
      ]
    },
    {
      "cell_type": "code",
      "execution_count": 5,
      "id": "5f71b480-c663-4235-beb3-d87130afdb49",
      "metadata": {
        "id": "5f71b480-c663-4235-beb3-d87130afdb49"
      },
      "outputs": [
        {
          "name": "stdout",
          "output_type": "stream",
          "text": [
            "The acronym is: K\n"
          ]
        }
      ],
      "source": [
        "#Question 3\n",
        "\n",
        "def generate_acronym(phrase):\n",
        "    words = phrase.split()\n",
        "    acronym = ''.join(word[0].upper() for word in words if word[0].isupper())\n",
        "    return acronym\n",
        "\n",
        "def main():\n",
        "    try:\n",
        "        phrase = input(\"Enter a phrase: \")\n",
        "        acronym = generate_acronym(phrase)\n",
        "        print(\"The acronym is:\", acronym)\n",
        "    except Exception as e:\n",
        "        print(f\"Error: {e}\")\n",
        "\n",
        "if __name__ == \"__main__\":\n",
        "    main()\n"
      ]
    },
    {
      "cell_type": "code",
      "execution_count": 6,
      "id": "1c566a07",
      "metadata": {},
      "outputs": [
        {
          "name": "stdout",
          "output_type": "stream",
          "text": [
            "Characters that occur in both strings: o,  , y\n",
            "Characters that occur in the first string only: \n",
            "Characters that occur in the second string only: \n"
          ]
        }
      ],
      "source": [
        "#Question 4 \n",
        "\n",
        "def compare_strings(str1, str2):\n",
        "    common_chars = set(str1) & set(str2)\n",
        "    unique_chars_str1 = set(str1) - set(str2)\n",
        "    unique_chars_str2 = set(str2) - set(str1)\n",
        "    \n",
        "    return common_chars, unique_chars_str1, unique_chars_str2\n",
        "\n",
        "def main():\n",
        "    try:\n",
        "        str1 = input(\"Enter the first string: \")\n",
        "        str2 = input(\"Enter the second string: \")\n",
        "        \n",
        "        common_chars, unique_chars_str1, unique_chars_str2 = compare_strings(str1, str2)\n",
        "        \n",
        "        print(\"Characters that occur in both strings:\", ', '.join(common_chars))\n",
        "        print(\"Characters that occur in the first string only:\", ', '.join(unique_chars_str1))\n",
        "        print(\"Characters that occur in the second string only:\", ', '.join(unique_chars_str2))\n",
        "    except Exception as e:\n",
        "        print(f\"Error: {e}\")\n",
        "\n",
        "if __name__ == \"__main__\":\n",
        "    main()\n"
      ]
    },
    {
      "cell_type": "code",
      "execution_count": null,
      "id": "26c13ebf",
      "metadata": {},
      "outputs": [],
      "source": []
    },
    {
      "cell_type": "code",
      "execution_count": null,
      "id": "9ac89375",
      "metadata": {},
      "outputs": [],
      "source": []
    },
    {
      "cell_type": "code",
      "execution_count": null,
      "id": "00d45cc5",
      "metadata": {},
      "outputs": [],
      "source": []
    },
    {
      "cell_type": "code",
      "execution_count": null,
      "id": "2a94520f",
      "metadata": {},
      "outputs": [],
      "source": []
    },
    {
      "cell_type": "code",
      "execution_count": null,
      "id": "bffc78a1",
      "metadata": {},
      "outputs": [],
      "source": [
        "\n"
      ]
    },
    {
      "cell_type": "code",
      "execution_count": null,
      "id": "9ce32377",
      "metadata": {},
      "outputs": [],
      "source": []
    },
    {
      "cell_type": "code",
      "execution_count": null,
      "id": "fd0721dc",
      "metadata": {},
      "outputs": [],
      "source": []
    },
    {
      "cell_type": "code",
      "execution_count": null,
      "id": "8b79dc0d",
      "metadata": {},
      "outputs": [],
      "source": []
    },
    {
      "cell_type": "code",
      "execution_count": null,
      "id": "4b2e6402",
      "metadata": {},
      "outputs": [],
      "source": []
    },
    {
      "cell_type": "code",
      "execution_count": null,
      "id": "6534c0c9",
      "metadata": {},
      "outputs": [],
      "source": []
    },
    {
      "cell_type": "code",
      "execution_count": null,
      "id": "425bff23",
      "metadata": {},
      "outputs": [],
      "source": []
    },
    {
      "cell_type": "code",
      "execution_count": null,
      "id": "7cf29ed9",
      "metadata": {},
      "outputs": [],
      "source": []
    },
    {
      "cell_type": "code",
      "execution_count": null,
      "id": "bf4eb9f0",
      "metadata": {},
      "outputs": [],
      "source": []
    }
  ],
  "metadata": {
    "colab": {
      "provenance": []
    },
    "kernelspec": {
      "display_name": "Python 3 (ipykernel)",
      "language": "python",
      "name": "python3"
    },
    "language_info": {
      "codemirror_mode": {
        "name": "ipython",
        "version": 3
      },
      "file_extension": ".py",
      "mimetype": "text/x-python",
      "name": "python",
      "nbconvert_exporter": "python",
      "pygments_lexer": "ipython3",
      "version": "3.11.4"
    }
  },
  "nbformat": 4,
  "nbformat_minor": 5
}
